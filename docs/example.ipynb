{
    "cells": [
        {
            "cell_type": "markdown",
            "metadata": {},
            "source": [
                "# Example usage\n",
                "\n",
                "To use `dataprofiler` in a project:"
            ]
        },
        {
            "cell_type": "code",
            "execution_count": 4,
            "metadata": {},
            "outputs": [],
            "source": [
                "import datpro as dp\n",
                "import pandas as pd"
            ]
        },
        {
            "cell_type": "code",
            "execution_count": 5,
            "metadata": {},
            "outputs": [
                {
                    "data": {
                        "text/html": [
                            "<div>\n",
                            "<style scoped>\n",
                            "    .dataframe tbody tr th:only-of-type {\n",
                            "        vertical-align: middle;\n",
                            "    }\n",
                            "\n",
                            "    .dataframe tbody tr th {\n",
                            "        vertical-align: top;\n",
                            "    }\n",
                            "\n",
                            "    .dataframe thead th {\n",
                            "        text-align: right;\n",
                            "    }\n",
                            "</style>\n",
                            "<table border=\"1\" class=\"dataframe\">\n",
                            "  <thead>\n",
                            "    <tr style=\"text-align: right;\">\n",
                            "      <th></th>\n",
                            "      <th>Age</th>\n",
                            "      <th>Income</th>\n",
                            "      <th>Spending_Score</th>\n",
                            "      <th>Gender</th>\n",
                            "      <th>Region</th>\n",
                            "    </tr>\n",
                            "  </thead>\n",
                            "  <tbody>\n",
                            "    <tr>\n",
                            "      <th>0</th>\n",
                            "      <td>66</td>\n",
                            "      <td>NaN</td>\n",
                            "      <td>26.373678</td>\n",
                            "      <td>Male</td>\n",
                            "      <td>South</td>\n",
                            "    </tr>\n",
                            "    <tr>\n",
                            "      <th>1</th>\n",
                            "      <td>65</td>\n",
                            "      <td>66369.651809</td>\n",
                            "      <td>20.906870</td>\n",
                            "      <td>Female</td>\n",
                            "      <td>South</td>\n",
                            "    </tr>\n",
                            "    <tr>\n",
                            "      <th>2</th>\n",
                            "      <td>59</td>\n",
                            "      <td>70764.092278</td>\n",
                            "      <td>47.990597</td>\n",
                            "      <td>Male</td>\n",
                            "      <td>West</td>\n",
                            "    </tr>\n",
                            "    <tr>\n",
                            "      <th>3</th>\n",
                            "      <td>64</td>\n",
                            "      <td>41432.315153</td>\n",
                            "      <td>31.120625</td>\n",
                            "      <td>Female</td>\n",
                            "      <td>North</td>\n",
                            "    </tr>\n",
                            "    <tr>\n",
                            "      <th>4</th>\n",
                            "      <td>53</td>\n",
                            "      <td>52963.994070</td>\n",
                            "      <td>12.016596</td>\n",
                            "      <td>Female</td>\n",
                            "      <td>East</td>\n",
                            "    </tr>\n",
                            "    <tr>\n",
                            "      <th>...</th>\n",
                            "      <td>...</td>\n",
                            "      <td>...</td>\n",
                            "      <td>...</td>\n",
                            "      <td>...</td>\n",
                            "      <td>...</td>\n",
                            "    </tr>\n",
                            "    <tr>\n",
                            "      <th>1005</th>\n",
                            "      <td>18</td>\n",
                            "      <td>62455.037248</td>\n",
                            "      <td>22.795113</td>\n",
                            "      <td>Female</td>\n",
                            "      <td>North</td>\n",
                            "    </tr>\n",
                            "    <tr>\n",
                            "      <th>1006</th>\n",
                            "      <td>24</td>\n",
                            "      <td>35361.901205</td>\n",
                            "      <td>18.846863</td>\n",
                            "      <td>Male</td>\n",
                            "      <td>South</td>\n",
                            "    </tr>\n",
                            "    <tr>\n",
                            "      <th>1007</th>\n",
                            "      <td>51</td>\n",
                            "      <td>56554.072546</td>\n",
                            "      <td>17.076530</td>\n",
                            "      <td>Female</td>\n",
                            "      <td>South</td>\n",
                            "    </tr>\n",
                            "    <tr>\n",
                            "      <th>1008</th>\n",
                            "      <td>63</td>\n",
                            "      <td>52799.136847</td>\n",
                            "      <td>42.219961</td>\n",
                            "      <td>Male</td>\n",
                            "      <td>East</td>\n",
                            "    </tr>\n",
                            "    <tr>\n",
                            "      <th>1009</th>\n",
                            "      <td>42</td>\n",
                            "      <td>52727.993826</td>\n",
                            "      <td>27.395330</td>\n",
                            "      <td>Male</td>\n",
                            "      <td>East</td>\n",
                            "    </tr>\n",
                            "  </tbody>\n",
                            "</table>\n",
                            "<p>1010 rows × 5 columns</p>\n",
                            "</div>"
                        ],
                        "text/plain": [
                            "      Age        Income  Spending_Score  Gender Region\n",
                            "0      66           NaN       26.373678    Male  South\n",
                            "1      65  66369.651809       20.906870  Female  South\n",
                            "2      59  70764.092278       47.990597    Male   West\n",
                            "3      64  41432.315153       31.120625  Female  North\n",
                            "4      53  52963.994070       12.016596  Female   East\n",
                            "...   ...           ...             ...     ...    ...\n",
                            "1005   18  62455.037248       22.795113  Female  North\n",
                            "1006   24  35361.901205       18.846863    Male  South\n",
                            "1007   51  56554.072546       17.076530  Female  South\n",
                            "1008   63  52799.136847       42.219961    Male   East\n",
                            "1009   42  52727.993826       27.395330    Male   East\n",
                            "\n",
                            "[1010 rows x 5 columns]"
                        ]
                    },
                    "execution_count": 5,
                    "metadata": {},
                    "output_type": "execute_result"
                }
            ],
            "source": [
                "df =  pd.read_csv('../data/example_data.csv')\n",
                "df"
            ]
        },
        {
            "cell_type": "code",
            "execution_count": 7,
            "metadata": {},
            "outputs": [
                {
                    "data": {
                        "text/plain": [
                            "{'missing_values': {'Income': {'missing_count': 50,\n",
                            "   'missing_percentage': np.float64(4.95)},\n",
                            "  'Spending_Score': {'missing_count': 30,\n",
                            "   'missing_percentage': np.float64(2.97)}},\n",
                            " 'outliers': {'Income': {'outlier_count': 24, 'outlier_percentage': 2.38},\n",
                            "  'Spending_Score': {'outlier_count': 4, 'outlier_percentage': 0.4}},\n",
                            " 'duplicates': {'duplicate_count': np.int64(10),\n",
                            "  'duplicate_percentage': np.float64(0.99)}}"
                        ]
                    },
                    "execution_count": 7,
                    "metadata": {},
                    "output_type": "execute_result"
                }
            ],
            "source": [
                "dp.detect_anomalies(df)"
            ]
        },
        {
            "cell_type": "code",
            "execution_count": null,
            "metadata": {},
            "outputs": [],
            "source": []
        }
    ],
    "metadata": {
        "kernelspec": {
            "display_name": "dataprofiler",
            "language": "python",
            "name": "python3"
        },
        "language_info": {
            "codemirror_mode": {
                "name": "ipython",
                "version": 3
            },
            "file_extension": ".py",
            "mimetype": "text/x-python",
            "name": "python",
            "nbconvert_exporter": "python",
            "pygments_lexer": "ipython3",
            "version": "3.11.0"
        }
    },
    "nbformat": 4,
    "nbformat_minor": 4
}
